{
  "nbformat": 4,
  "nbformat_minor": 0,
  "metadata": {
    "colab": {
      "provenance": [],
      "name": "2. Agent-SDK-Use-case.ipynb"
    },
    "kernelspec": {
      "name": "python3",
      "display_name": "Python 3"
    },
    "language_info": {
      "name": "python"
    }
  },
  "cells": [
    {
      "cell_type": "markdown",
      "source": [
        "#Vertex Agents SDK for quering MongoDB Atlas\n",
        "\n",
        "This colab demonstrates all how to use Vertex AI extension to query MongoDB Atlas"
      ],
      "metadata": {
        "id": "WHtLTE3ksNDP"
      }
    },
    {
      "cell_type": "markdown",
      "source": [
        "##Authenticate"
      ],
      "metadata": {
        "id": "S87zlm_nsEZB"
      }
    },
    {
      "cell_type": "code",
      "execution_count": 1,
      "metadata": {
        "id": "JZGytImrziVA",
        "executionInfo": {
          "status": "ok",
          "timestamp": 1727851979153,
          "user_tz": -330,
          "elapsed": 5,
          "user": {
            "displayName": "",
            "userId": ""
          }
        },
        "colab": {
          "base_uri": "https://localhost:8080/"
        },
        "outputId": "989a1b8f-7e41-4c44-aeec-07b27d31c9ac"
      },
      "outputs": [
        {
          "output_type": "stream",
          "name": "stdout",
          "text": [
            "WARNING: google.colab.auth.authenticate_user() is not supported in Colab Enterprise.\n"
          ]
        }
      ],
      "source": [
        "from google.colab import auth\n",
        "auth.authenticate_user()"
      ]
    },
    {
      "cell_type": "markdown",
      "source": [
        "##Download most recent copy of Vertex Agents SDK"
      ],
      "metadata": {
        "id": "JgXyHQQfsGnc"
      }
    },
    {
      "cell_type": "code",
      "source": [
        "!gsutil cp gs://vertex_agents_private_releases/vertex_agents/google_cloud_aiplatform-1.60.dev20240710+vertex.agents-py2.py3-none-any.whl ."
      ],
      "metadata": {
        "id": "_C9FmGI_Usxk"
      },
      "execution_count": null,
      "outputs": []
    },
    {
      "cell_type": "code",
      "source": [
        "\n",
        "!pip install --upgrade --force-reinstall -q google_cloud_aiplatform-1.60.dev20240710+vertex.agents-py2.py3-none-any.whl --no-warn-conflicts\n",
        "!pip install numpy==1.26.4\n",
        "\n",
        "# Restart the kernel runtime to load the private preview SDK\n",
        "import IPython\n",
        "app = IPython.Application.instance()\n",
        "app.kernel.do_shutdown(True)"
      ],
      "metadata": {
        "id": "AOJu5GA6zjEJ"
      },
      "execution_count": null,
      "outputs": []
    },
    {
      "cell_type": "markdown",
      "source": [
        "##Imports and Initialization\n",
        "\n",
        "Make sure to initialize aiplatform with your projectID, location, and api endpoint. You need to initialize aiplatform before performing any of the other imports"
      ],
      "metadata": {
        "id": "FplTr7dLsX-h"
      }
    },
    {
      "cell_type": "code",
      "source": [
        "# TODO: Replace with your project ID.\n",
        "PROJECT_ID = \"Your project name\" # @param {type:\"string\"}\n",
        "LOCATION = 'Your region of deployment' # @param {type:\"string\"}\n",
        "STAGING_BUCKET =  \"gs://bucket name\" # @param {type:\"string\"}\n",
        "API_ENDPOINT = 'us-central1-aiplatform.googleapis.com' # @param {type:\"string\"}\n",
        "LLM_MODEL = \"gemini-1.5-pro\" # @param {type:\"string\"}\n",
        "\n",
        "from google.cloud import aiplatform\n",
        "from google.cloud.aiplatform.private_preview.vertex_agents.app import App, Session\n",
        "from google.cloud.aiplatform.private_preview.vertex_agents.agent import Agent\n",
        "from vertexai.preview.extensions import Extension\n",
        "\n",
        "aiplatform.init(project=PROJECT_ID, location=LOCATION, api_endpoint=API_ENDPOINT)"
      ],
      "metadata": {
        "id": "xwnx0xPuskAQ",
        "executionInfo": {
          "status": "ok",
          "timestamp": 1727852243267,
          "user_tz": -330,
          "elapsed": 2762,
          "user": {
            "displayName": "",
            "userId": ""
          }
        }
      },
      "execution_count": 1,
      "outputs": []
    },
    {
      "cell_type": "markdown",
      "source": [
        "#Apps"
      ],
      "metadata": {
        "id": "wWso7BK7egeY"
      }
    },
    {
      "cell_type": "markdown",
      "source": [
        "##Create App\n",
        "\n",
        "There are two options for creating an app.\n",
        "\n",
        "\n",
        "1.   use the App.create function, which will create a new app for you\n",
        "2.   initialize a Vertex Agents App object with the resource name of a previously created App\n",
        "\n"
      ],
      "metadata": {
        "id": "fXbIk49Osyjt"
      }
    },
    {
      "cell_type": "code",
      "source": [
        "app = App.create(display_name='Vertex Agents App for MongoDB', description='made via the SDK')\n",
        "\n",
        "# To load an existing app\n",
        "# app = App(\"projects/<project_id>/locations<location_id>/apps/<app_id>\")"
      ],
      "metadata": {
        "id": "YclyIwrvUNZU",
        "executionInfo": {
          "status": "ok",
          "timestamp": 1727852250339,
          "user_tz": -330,
          "elapsed": 2500,
          "user": {
            "displayName": "",
            "userId": ""
          }
        }
      },
      "execution_count": 2,
      "outputs": []
    },
    {
      "cell_type": "markdown",
      "source": [
        "##List Apps\n",
        "\n",
        "You can list all the apps in a project, which will return a list of operational Apps.\n",
        "\n",
        "Alternatively, you can get a user-friendly mapping of App display names and resource names."
      ],
      "metadata": {
        "id": "p11Jp01iebVf"
      }
    },
    {
      "cell_type": "code",
      "source": [
        "all_apps = App.list_apps()\n",
        "all_apps[0]"
      ],
      "metadata": {
        "id": "89YAJsR3eaz1",
        "colab": {
          "base_uri": "https://localhost:8080/"
        },
        "executionInfo": {
          "status": "ok",
          "timestamp": 1727852257760,
          "user_tz": -330,
          "elapsed": 3052,
          "user": {
            "displayName": "",
            "userId": ""
          }
        },
        "outputId": "16dfc253-31fe-4f13-935e-fdfad9c9a424"
      },
      "execution_count": 3,
      "outputs": [
        {
          "output_type": "execute_result",
          "data": {
            "text/plain": [
              "app_name: projects/787220387490/locations/us-central1/apps/3874503054422179840\n",
              "display_name: Vertex Agents App for MongoDB\n",
              "description: made via the SDK\n",
              "agents: {}"
            ]
          },
          "metadata": {},
          "execution_count": 3
        }
      ]
    },
    {
      "cell_type": "markdown",
      "source": [
        "# Tools"
      ],
      "metadata": {
        "id": "owNyuuOBNycy"
      }
    },
    {
      "cell_type": "markdown",
      "source": [
        "###Extension Tools"
      ],
      "metadata": {
        "id": "44ikqwKQpEms"
      }
    },
    {
      "cell_type": "markdown",
      "source": [
        "####MongoDB Extensions\n",
        "\n",
        "Run the 1. extensions for MongoDB notebook to generate the extension id and provide to EXTENSIONS_ID variable."
      ],
      "metadata": {
        "id": "7WfUoOM_p-YT"
      }
    },
    {
      "cell_type": "code",
      "source": [
        "from google.cloud import aiplatform\n",
        "from vertexai.preview import extensions\n",
        "\n",
        "EXTENSIONS_ID=\"Extension ID created using extension notebook\" # @param {type:\"string\"}\n",
        "\n",
        "mdb_extension = extensions.Extension(EXTENSIONS_ID)"
      ],
      "metadata": {
        "id": "mo3CbuN1dnED",
        "executionInfo": {
          "status": "ok",
          "timestamp": 1727854544189,
          "user_tz": -330,
          "elapsed": 692,
          "user": {
            "displayName": "",
            "userId": ""
          }
        }
      },
      "execution_count": 52,
      "outputs": []
    },
    {
      "cell_type": "markdown",
      "source": [
        "# Operations on an app"
      ],
      "metadata": {
        "id": "KeDYd92xtGtj"
      }
    },
    {
      "cell_type": "markdown",
      "source": [
        "## Agents\n",
        "\n",
        "Agents exist under an App. Agents can perform small, specific tasks utilizing Vertex Extensions and function calling. Agents require a display name, and a set of instructions.\n",
        "\n",
        "When creating an agent, you must specify the following:\n",
        "\n",
        "\n",
        "1.   Display Name\n",
        "2.   Instructions - the detailed instructions the Agent should follow. This is where you instruct your agent when to call your functions / extensions and with what parameters.\n",
        "\n",
        "You also have the option to specify the extensions and functions you will be using. Please note that if you reference an extension or function in the instructions, you ***must*** include an extension/function with the same display name in the extensions/functions lists."
      ],
      "metadata": {
        "id": "T03epuLxtI8_"
      }
    },
    {
      "cell_type": "markdown",
      "source": [
        "##Create Agent\n",
        "You can create an agent for your app by using the add_agent method. When creating an agent, you must specify all the required fields discussed above.\n",
        "\n"
      ],
      "metadata": {
        "id": "EiTxHE26NE7j"
      }
    },
    {
      "cell_type": "markdown",
      "source": [
        "##Create a single Agent App\n",
        "\n",
        "If you want to create an App and Agent in a single turn (i.e. avoiding using create_app -> add_agent) you can use `App.create_single_agent_app`. You must specify the agent display name, and then optionally specify tools for the agent, and the App's display name and description. This function returns an operable App.\n",
        "\n",
        "**Update the </Your Cluster name here/> with your cluster name.**"
      ],
      "metadata": {
        "id": "4T7q9duxb2rV"
      }
    },
    {
      "cell_type": "code",
      "source": [
        "DISPLAY_NAME = \"MongoDB Agent\"\n",
        "INSTRUCTIONS = \"\"\"\n",
        "If user ask about anything from papers published use the extension MongoDb Vertex API Interpreter to make the call,\n",
        "The agent makes api call to This extension makes api call to mongodb cluster '</Your Cluster name here/>', database 'sample_mflix' and collection 'movies' it also connects to database 'sample_restaurants' and collection 'restaurants' to do all crud operations only return the documents from the same.\n",
        "Only respond based on the response of the tool. Do not create your own answers.\n",
        "\"\"\"\n",
        "\n",
        "app = App.create_single_agent_app(\n",
        "    agent_display_name=DISPLAY_NAME,\n",
        "    instructions=INSTRUCTIONS,\n",
        "    extensions={\n",
        "        'mongodb': mdb_extension\n",
        "    }\n",
        "    )"
      ],
      "metadata": {
        "id": "CYl29-ijcODp",
        "executionInfo": {
          "status": "ok",
          "timestamp": 1727854549925,
          "user_tz": -330,
          "elapsed": 2291,
          "user": {
            "displayName": "",
            "userId": ""
          }
        }
      },
      "execution_count": 53,
      "outputs": []
    },
    {
      "cell_type": "markdown",
      "source": [
        "##List Agents\n",
        "\n",
        "You can list all the agents exiting under an App. This will return operatable Agent objects."
      ],
      "metadata": {
        "id": "C3alENcltkey"
      }
    },
    {
      "cell_type": "code",
      "source": [
        "app.list_agents()"
      ],
      "metadata": {
        "id": "-U5xSGNT-OqA"
      },
      "execution_count": null,
      "outputs": []
    },
    {
      "cell_type": "markdown",
      "source": [
        "##Get Agent\n",
        "\n",
        "You can also get a specific Agent using either the resource name or the display name"
      ],
      "metadata": {
        "id": "v1ZsZ_A8v3mf"
      }
    },
    {
      "cell_type": "code",
      "source": [
        "agent = app.get_agent('MongoDB Agent')"
      ],
      "metadata": {
        "id": "jbK_5YLxv3V8",
        "executionInfo": {
          "status": "ok",
          "timestamp": 1727854557337,
          "user_tz": -330,
          "elapsed": 718,
          "user": {
            "displayName": "",
            "userId": ""
          }
        }
      },
      "execution_count": 55,
      "outputs": []
    },
    {
      "cell_type": "code",
      "source": [
        "agent"
      ],
      "metadata": {
        "id": "7H9-GNeYav11",
        "collapsed": true
      },
      "execution_count": null,
      "outputs": []
    },
    {
      "cell_type": "markdown",
      "source": [
        "Alternatively, you can get an Agent using the Agent class\n",
        "\n",
        "Note that the only way to create a new Agent is to create it under an App, using `app.add_agent()`. The Agents constructor can only be used to get a reference to an Agent that has already been created."
      ],
      "metadata": {
        "id": "HtvWq-Q8PlUU"
      }
    },
    {
      "cell_type": "markdown",
      "source": [
        "#Session\n",
        "\n",
        "NOTE: you can remove `.content` from the end of each run call to get more detailed information about each session action"
      ],
      "metadata": {
        "id": "m91d6I8i8nXW"
      }
    },
    {
      "cell_type": "code",
      "source": [
        "session = app.start_session()"
      ],
      "metadata": {
        "id": "cSuSJm6P8oHN",
        "executionInfo": {
          "status": "ok",
          "timestamp": 1727854899594,
          "user_tz": -330,
          "elapsed": 634,
          "user": {
            "displayName": "",
            "userId": ""
          }
        }
      },
      "execution_count": 63,
      "outputs": []
    },
    {
      "cell_type": "markdown",
      "source": [
        "## Multi-turn queries without tool calls\n"
      ],
      "metadata": {
        "id": "OkuaTZmNgxkL"
      }
    },
    {
      "cell_type": "code",
      "source": [
        "session.run(\"Who is the cast in the movie 'The Great Train Robbery'\").content"
      ],
      "metadata": {
        "id": "HZxzrIK6snLE",
        "collapsed": true,
        "colab": {
          "base_uri": "https://localhost:8080/"
        },
        "executionInfo": {
          "status": "ok",
          "timestamp": 1727854570678,
          "user_tz": -330,
          "elapsed": 4099,
          "user": {
            "displayName": "",
            "userId": ""
          }
        },
        "outputId": "687c9efb-9665-4749-dfdc-34881e1039af"
      },
      "execution_count": 58,
      "outputs": [
        {
          "output_type": "execute_result",
          "data": {
            "text/plain": [
              "role: \"model\"\n",
              "parts {\n",
              "  text: \"The cast of the movie \\'The Great Train Robbery\\' includes A.C. Abadie, Gilbert M. \\'Broncho Billy\\' Anderson, George Barnes, and Justus D. Barnes. \\n\"\n",
              "}"
            ]
          },
          "metadata": {},
          "execution_count": 58
        }
      ]
    },
    {
      "cell_type": "code",
      "source": [
        "session.get_history()"
      ],
      "metadata": {
        "id": "FDZWdyMjs2jA",
        "collapsed": true
      },
      "execution_count": null,
      "outputs": []
    },
    {
      "cell_type": "code",
      "source": [
        "session.run(\"Give me a name of movie starring 'Will Smith'\").content"
      ],
      "metadata": {
        "id": "1wrSL7Lt-jhG",
        "colab": {
          "base_uri": "https://localhost:8080/"
        },
        "executionInfo": {
          "status": "ok",
          "timestamp": 1727854580997,
          "user_tz": -330,
          "elapsed": 3635,
          "user": {
            "displayName": "",
            "userId": ""
          }
        },
        "outputId": "38f51ecc-34d4-425b-8ecf-f3feb86a78e3",
        "collapsed": true
      },
      "execution_count": 60,
      "outputs": [
        {
          "output_type": "execute_result",
          "data": {
            "text/plain": [
              "role: \"model\"\n",
              "parts {\n",
              "  text: \"A movie starring Will Smith is \\'Made in America\\'. \\n\"\n",
              "}"
            ]
          },
          "metadata": {},
          "execution_count": 60
        }
      ]
    },
    {
      "cell_type": "markdown",
      "source": [
        "## User query that invokes client side function\n"
      ],
      "metadata": {
        "id": "AvwP0OSug90e"
      }
    },
    {
      "cell_type": "code",
      "source": [
        "session.run(\"get me some borough for cuisine American\").content"
      ],
      "metadata": {
        "id": "_CnkVE9m_au3",
        "colab": {
          "base_uri": "https://localhost:8080/"
        },
        "executionInfo": {
          "status": "ok",
          "timestamp": 1727854587230,
          "user_tz": -330,
          "elapsed": 3635,
          "user": {
            "displayName": "",
            "userId": ""
          }
        },
        "outputId": "79691d18-c3d4-40c7-b29a-3ea8639e9a56"
      },
      "execution_count": 61,
      "outputs": [
        {
          "output_type": "execute_result",
          "data": {
            "text/plain": [
              "role: \"model\"\n",
              "parts {\n",
              "  text: \"Some boroughs for American cuisine are Brooklyn, Queens, and Bronx. \\n\"\n",
              "}"
            ]
          },
          "metadata": {},
          "execution_count": 61
        }
      ]
    },
    {
      "cell_type": "code",
      "source": [
        "# app.delete_session('<Session Name>')"
      ],
      "metadata": {
        "id": "9AHX-qgAOqK4"
      },
      "execution_count": null,
      "outputs": []
    }
  ]
}