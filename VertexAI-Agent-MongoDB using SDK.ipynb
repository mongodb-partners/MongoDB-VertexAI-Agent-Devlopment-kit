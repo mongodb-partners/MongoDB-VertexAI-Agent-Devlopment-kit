{
  "nbformat": 4,
  "nbformat_minor": 0,
  "metadata": {
    "colab": {
      "provenance": [],
      "name": "VertexAI-Agent-MongoDB.ipynb"
    },
    "kernelspec": {
      "name": "python3",
      "display_name": "Python 3"
    },
    "language_info": {
      "name": "python"
    }
  },
  "cells": [
    {
      "cell_type": "markdown",
      "source": [
        "#Vertex Agents SDK for quering MongoDB Atlas\n",
        "\n",
        "This colab demonstrates all how to use Vertex AI extension to query MongoDB Atlas"
      ],
      "metadata": {
        "id": "WHtLTE3ksNDP"
      }
    },
    {
      "cell_type": "markdown",
      "source": [
        "##Authenticate"
      ],
      "metadata": {
        "id": "S87zlm_nsEZB"
      }
    },
    {
      "cell_type": "code",
      "execution_count": null,
      "metadata": {
        "id": "JZGytImrziVA",
        "executionInfo": {
          "status": "ok",
          "timestamp": 1725546130927,
          "user_tz": -330,
          "elapsed": 2,
          "user": {
            "displayName": "",
            "userId": ""
          }
        },
        "colab": {
          "base_uri": "https://localhost:8080/"
        },
        "outputId": "62ff1303-693b-4b76-8338-6f57702a4de5"
      },
      "outputs": [
        {
          "output_type": "stream",
          "name": "stdout",
          "text": [
            "WARNING: google.colab.auth.authenticate_user() is not supported in Colab Enterprise.\n"
          ]
        }
      ],
      "source": [
        "from google.colab import auth\n",
        "auth.authenticate_user()"
      ]
    },
    {
      "cell_type": "markdown",
      "source": [
        "##Download most recent copy of Vertex Agents SDK"
      ],
      "metadata": {
        "id": "JgXyHQQfsGnc"
      }
    },
    {
      "cell_type": "code",
      "source": [
        "!gsutil cp gs://vertex_agents_private_releases/vertex_agents/google_cloud_aiplatform-1.60.dev20240710+vertex.agents-py2.py3-none-any.whl ."
      ],
      "metadata": {
        "colab": {
          "base_uri": "https://localhost:8080/"
        },
        "id": "_C9FmGI_Usxk",
        "executionInfo": {
          "status": "ok",
          "timestamp": 1725546135534,
          "user_tz": -330,
          "elapsed": 3948,
          "user": {
            "displayName": "",
            "userId": ""
          }
        },
        "outputId": "08ba3e98-b9d2-4830-f4bc-b42b0aa3b271"
      },
      "execution_count": null,
      "outputs": [
        {
          "output_type": "stream",
          "name": "stdout",
          "text": [
            "Copying gs://vertex_agents_private_releases/vertex_agents/google_cloud_aiplatform-1.60.dev20240710+vertex.agents-py2.py3-none-any.whl...\n",
            "/ [1 files][  5.2 MiB/  5.2 MiB]                                                \n",
            "Operation completed over 1 objects/5.2 MiB.                                      \n"
          ]
        }
      ]
    },
    {
      "cell_type": "code",
      "source": [
        "# !gsutil cp gs://vertex_agents_private_releases/vertex_agents/google_cloud_aiplatform-1.55.dev20240609+vertex.agents-py2.py3-none-any.whl .\n",
        "\n",
        "!pip install --upgrade --force-reinstall -q google_cloud_aiplatform-1.60.dev20240710+vertex.agents-py2.py3-none-any.whl --no-warn-conflicts\n",
        "!pip install numpy==1.26.4\n",
        "\n",
        "# Restart the kernel runtime to load the private preview SDK\n",
        "import IPython\n",
        "app = IPython.Application.instance()\n",
        "app.kernel.do_shutdown(True)"
      ],
      "metadata": {
        "colab": {
          "base_uri": "https://localhost:8080/"
        },
        "id": "AOJu5GA6zjEJ",
        "outputId": "13f837be-6d42-42cc-c193-f4493299204a",
        "executionInfo": {
          "status": "ok",
          "timestamp": 1725546217293,
          "user_tz": -330,
          "elapsed": 77088,
          "user": {
            "displayName": "",
            "userId": ""
          }
        }
      },
      "execution_count": null,
      "outputs": [
        {
          "output_type": "stream",
          "name": "stdout",
          "text": [
            "\u001b[2K     \u001b[90m━━━━━━━━━━━━━━━━━━━━━━━━━━━━━━━━━━━━━━━━\u001b[0m \u001b[32m60.9/60.9 kB\u001b[0m \u001b[31m1.1 MB/s\u001b[0m eta \u001b[36m0:00:00\u001b[0m\n",
            "\u001b[2K   \u001b[90m━━━━━━━━━━━━━━━━━━━━━━━━━━━━━━━━━━━━━━━━\u001b[0m \u001b[32m139.4/139.4 kB\u001b[0m \u001b[31m2.8 MB/s\u001b[0m eta \u001b[36m0:00:00\u001b[0m\n",
            "\u001b[2K   \u001b[90m━━━━━━━━━━━━━━━━━━━━━━━━━━━━━━━━━━━━━━━━\u001b[0m \u001b[32m200.9/200.9 kB\u001b[0m \u001b[31m18.3 MB/s\u001b[0m eta \u001b[36m0:00:00\u001b[0m\n",
            "\u001b[2K   \u001b[90m━━━━━━━━━━━━━━━━━━━━━━━━━━━━━━━━━━━━━━━━\u001b[0m \u001b[32m130.5/130.5 kB\u001b[0m \u001b[31m4.3 MB/s\u001b[0m eta \u001b[36m0:00:00\u001b[0m\n",
            "\u001b[2K   \u001b[90m━━━━━━━━━━━━━━━━━━━━━━━━━━━━━━━━━━━━━━━━\u001b[0m \u001b[32m294.6/294.6 kB\u001b[0m \u001b[31m3.4 MB/s\u001b[0m eta \u001b[36m0:00:00\u001b[0m\n",
            "\u001b[2K   \u001b[90m━━━━━━━━━━━━━━━━━━━━━━━━━━━━━━━━━━━━━━━━\u001b[0m \u001b[32m220.9/220.9 kB\u001b[0m \u001b[31m3.1 MB/s\u001b[0m eta \u001b[36m0:00:00\u001b[0m\n",
            "\u001b[2K   \u001b[90m━━━━━━━━━━━━━━━━━━━━━━━━━━━━━━━━━━━━━━━━\u001b[0m \u001b[32m5.7/5.7 MB\u001b[0m \u001b[31m2.8 MB/s\u001b[0m eta \u001b[36m0:00:00\u001b[0m\n",
            "\u001b[2K   \u001b[90m━━━━━━━━━━━━━━━━━━━━━━━━━━━━━━━━━━━━━━━━\u001b[0m \u001b[32m16.3/16.3 MB\u001b[0m \u001b[31m2.5 MB/s\u001b[0m eta \u001b[36m0:00:00\u001b[0m\n",
            "\u001b[2K   \u001b[90m━━━━━━━━━━━━━━━━━━━━━━━━━━━━━━━━━━━━━━━━\u001b[0m \u001b[32m229.9/229.9 kB\u001b[0m \u001b[31m2.9 MB/s\u001b[0m eta \u001b[36m0:00:00\u001b[0m\n",
            "\u001b[2K   \u001b[90m━━━━━━━━━━━━━━━━━━━━━━━━━━━━━━━━━━━━━━━━\u001b[0m \u001b[32m167.3/167.3 kB\u001b[0m \u001b[31m2.8 MB/s\u001b[0m eta \u001b[36m0:00:00\u001b[0m\n",
            "\u001b[2K   \u001b[90m━━━━━━━━━━━━━━━━━━━━━━━━━━━━━━━━━━━━━━━━\u001b[0m \u001b[32m66.9/66.9 kB\u001b[0m \u001b[31m2.9 MB/s\u001b[0m eta \u001b[36m0:00:00\u001b[0m\n",
            "\u001b[2K   \u001b[90m━━━━━━━━━━━━━━━━━━━━━━━━━━━━━━━━━━━━━━━━\u001b[0m \u001b[32m121.4/121.4 kB\u001b[0m \u001b[31m3.1 MB/s\u001b[0m eta \u001b[36m0:00:00\u001b[0m\n",
            "\u001b[?25hCollecting numpy==1.26.4\n",
            "  Using cached numpy-1.26.4-cp310-cp310-manylinux_2_17_x86_64.manylinux2014_x86_64.whl.metadata (61 kB)\n",
            "Using cached numpy-1.26.4-cp310-cp310-manylinux_2_17_x86_64.manylinux2014_x86_64.whl (18.2 MB)\n",
            "Installing collected packages: numpy\n",
            "  Attempting uninstall: numpy\n",
            "    Found existing installation: numpy 2.1.1\n",
            "    Uninstalling numpy-2.1.1:\n",
            "      Successfully uninstalled numpy-2.1.1\n",
            "\u001b[31mERROR: pip's dependency resolver does not currently take into account all the packages that are installed. This behaviour is the source of the following dependency conflicts.\n",
            "xgboost 2.1.1 requires nvidia-nccl-cu12; platform_system == \"Linux\" and platform_machine != \"aarch64\", which is not installed.\u001b[0m\u001b[31m\n",
            "\u001b[0mSuccessfully installed numpy-1.26.4\n"
          ]
        },
        {
          "output_type": "execute_result",
          "data": {
            "text/plain": [
              "{'status': 'ok', 'restart': True}"
            ]
          },
          "metadata": {},
          "execution_count": 4
        }
      ]
    },
    {
      "cell_type": "markdown",
      "source": [
        "##Imports and Initialization\n",
        "\n",
        "Make sure to initialize aiplatform with your projectID, location, and api endpoint. You need to initialize aiplatform before performing any of the other imports"
      ],
      "metadata": {
        "id": "FplTr7dLsX-h"
      }
    },
    {
      "cell_type": "code",
      "source": [
        "# TODO: Replace with your project ID.\n",
        "PROJECT_ID = \"gcp-pov\" # @param {type:\"string\"}\n",
        "LOCATION = 'us-central1'\n",
        "API_ENDPOINT = 'us-central1-aiplatform.googleapis.com'\n",
        "\n",
        "from google.cloud import aiplatform\n",
        "from google.cloud.aiplatform.private_preview.vertex_agents.app import App, Session\n",
        "from google.cloud.aiplatform.private_preview.vertex_agents.agent import Agent\n",
        "from vertexai.preview.extensions import Extension\n",
        "\n",
        "aiplatform.init(project=PROJECT_ID, location=LOCATION, api_endpoint=API_ENDPOINT)"
      ],
      "metadata": {
        "id": "xwnx0xPuskAQ"
      },
      "execution_count": null,
      "outputs": []
    },
    {
      "cell_type": "markdown",
      "source": [
        "#Apps"
      ],
      "metadata": {
        "id": "wWso7BK7egeY"
      }
    },
    {
      "cell_type": "markdown",
      "source": [
        "##Create App\n",
        "\n",
        "There are two options for creating an app.\n",
        "\n",
        "\n",
        "1.   use the App.create function, which will create a new app for you\n",
        "2.   initialize a Vertex Agents App object with the resource name of a previously created App\n",
        "\n"
      ],
      "metadata": {
        "id": "fXbIk49Osyjt"
      }
    },
    {
      "cell_type": "code",
      "source": [
        "app = App.create(display_name='Vertex Agents App for MongoDB v1.6', description='made via the SDK')\n",
        "\n",
        "# To load an existing app\n",
        "# app = App(\"projects/<project_id>/locations<location_id>/apps/<app_id>\")"
      ],
      "metadata": {
        "id": "YclyIwrvUNZU"
      },
      "execution_count": null,
      "outputs": []
    },
    {
      "cell_type": "markdown",
      "source": [
        "##List Apps\n",
        "\n",
        "You can list all the apps in a project, which will return a list of operational Apps.\n",
        "\n",
        "Alternatively, you can get a user-friendly mapping of App display names and resource names."
      ],
      "metadata": {
        "id": "p11Jp01iebVf"
      }
    },
    {
      "cell_type": "code",
      "source": [
        "all_apps = App.list_apps()\n",
        "all_apps[0]"
      ],
      "metadata": {
        "id": "89YAJsR3eaz1",
        "colab": {
          "base_uri": "https://localhost:8080/"
        },
        "executionInfo": {
          "status": "ok",
          "timestamp": 1725546260756,
          "user_tz": -330,
          "elapsed": 2889,
          "user": {
            "displayName": "",
            "userId": ""
          }
        },
        "outputId": "16479b3b-9984-4bf4-e972-7d51b01df2cd"
      },
      "execution_count": null,
      "outputs": [
        {
          "output_type": "execute_result",
          "data": {
            "text/plain": [
              "app_name: projects/787220387490/locations/us-central1/apps/2512445642119315456\n",
              "display_name: Vertex Agents App for MongoDB v1.6\n",
              "description: made via the SDK\n",
              "agents: {}"
            ]
          },
          "metadata": {},
          "execution_count": 3
        }
      ]
    },
    {
      "cell_type": "markdown",
      "source": [
        "# Tools"
      ],
      "metadata": {
        "id": "owNyuuOBNycy"
      }
    },
    {
      "cell_type": "markdown",
      "source": [
        "###Extension Tools\n",
        "\n",
        "You can integrate both 1p and 3p Extension tools into your agent. To get a reference to a 1p extension, you can use the `Extensions.from_hub(...)` method"
      ],
      "metadata": {
        "id": "44ikqwKQpEms"
      }
    },
    {
      "cell_type": "markdown",
      "source": [
        "####3p Extensions\n",
        "\n",
        "To create a 3p extension, you will need to specify the display name, description, and manifest of your extension."
      ],
      "metadata": {
        "id": "7WfUoOM_p-YT"
      }
    },
    {
      "cell_type": "code",
      "source": [
        "## This is just a sample values please replace accordingly to your project\n",
        "import os\n",
        "\n",
        "# Setting up the GCP project\n",
        "os.environ['PROJECT_ID'] = 'gcp-pov'  # GCP Project ID\n",
        "os.environ['REGION'] =  \"us-central1\" # Project Region\n",
        "## GCS Bucket location\n",
        "os.environ['STAGING_BUCKET'] =  \"gs://vertexai_extensions\"\n",
        "## Extension Config\n",
        "os.environ['EXTENSION_DISPLAY_HOME'] =  \"MongoDb Vertex API Interpreter\"\n",
        "os.environ['EXTENSION_DESCRIPTION'] =  \"This extension makes api call to mongodb cluster FreeTier database sample_papers and collection embedding_papers to do all crud operations \"\n",
        "\n",
        "## OPEN API SPec config\n",
        "os.environ['MANIFEST_NAME'] =  \"mdb_crud_interpreter_for_agent_sdk\"\n",
        "os.environ['MANIFEST_DESCRIPTION'] =  \"\"\"\n",
        "This extension makes api call to mongodb cluster FreeTier, database sample_papers and collection embedding_papers to do all crud operations and This extension makes api call to mongodb cluster FreeTier, database sample_restaurants  and collection restaurants to do all crud operations based on the user query related to papers or resturants\n",
        "\n",
        "\"\"\"\n",
        "os.environ['OPENAPI_GCS_URI'] =  \"gs://vertexai_extensions/mdb_extension_updated.yaml\"\n",
        "\n",
        "## API KEY secret location\n",
        "# os.environ['API_SECRET_LOCATION'] = \"projects/787220387490/secrets/mdbapi/versions/1\"\n",
        "os.environ['API_SECRET_LOCATION'] = \"projects/787220387490/secrets/mdbapi/versions/1\"\n",
        "\n",
        "\n",
        "##LLM config\n",
        "os.environ['LLM_MODEL'] = \"gemini-1.5-pro\"\n",
        "\n",
        "from google.cloud import aiplatform\n",
        "from vertexai.preview import extensions\n",
        "\n",
        "PROJECT_ID = os.environ['PROJECT_ID']\n",
        "REGION = os.environ['REGION']\n",
        "STAGING_BUCKET = os.environ['STAGING_BUCKET']\n",
        "\n",
        "aiplatform.init(\n",
        "    project=PROJECT_ID,\n",
        "    location=REGION,\n",
        "    staging_bucket=STAGING_BUCKET,\n",
        ")"
      ],
      "metadata": {
        "id": "4WdFKMVhEQ3M"
      },
      "execution_count": null,
      "outputs": []
    },
    {
      "cell_type": "code",
      "source": [
        "mdb_crud = extensions.Extension.create(\n",
        "         display_name = os.environ['EXTENSION_DISPLAY_HOME'],\n",
        "         # Optional.\n",
        "         description = os.environ['EXTENSION_DESCRIPTION'],  # Optional.\n",
        "         manifest = {\n",
        "             \"name\": os.environ['MANIFEST_NAME'],\n",
        "             \"description\": os.environ['MANIFEST_DESCRIPTION'],\n",
        "             \"api_spec\": {\n",
        "                 \"open_api_gcs_uri\": (\n",
        "                     os.environ['OPENAPI_GCS_URI']\n",
        "                 ),\n",
        "             },\n",
        "             \"auth_config\": {\n",
        "                 # GOOGLE_SERVICE_ACCOUNT_AUTH is only for 1P supported extensions.\n",
        "                 \"apiKeyConfig\":{\n",
        "             \"name\":\"api-key\",\n",
        "             \"apiKeySecret\":os.environ['API_SECRET_LOCATION'],\n",
        "             \"httpElementLocation\": \"HTTP_IN_HEADER\"\n",
        "             },\n",
        "             \"authType\":\"API_KEY_AUTH\"\n",
        "             },\n",
        "         },\n",
        "     )\n",
        "mdb_crud"
      ],
      "metadata": {
        "id": "mo3CbuN1dnED"
      },
      "execution_count": null,
      "outputs": []
    },
    {
      "cell_type": "markdown",
      "source": [
        "# Operations on an app"
      ],
      "metadata": {
        "id": "KeDYd92xtGtj"
      }
    },
    {
      "cell_type": "markdown",
      "source": [
        "## Agents\n",
        "\n",
        "Agents exist under an App. Agents can perform small, specific tasks utilizing Vertex Extensions and function calling. Agents require a display name, and a set of instructions.\n",
        "\n",
        "When creating an agent, you must specify the following:\n",
        "\n",
        "\n",
        "1.   Display Name\n",
        "2.   Instructions - the detailed instructions the Agent should follow. This is where you instruct your agent when to call your functions / extensions and with what parameters.\n",
        "\n",
        "You also have the option to specify the extensions and functions you will be using. Please note that if you reference an extension or function in the instructions, you ***must*** include an extension/function with the same display name in the extensions/functions lists."
      ],
      "metadata": {
        "id": "T03epuLxtI8_"
      }
    },
    {
      "cell_type": "markdown",
      "source": [
        "##Create Agent\n",
        "You can create an agent for your app by using the add_agent method. When creating an agent, you must specify all the required fields discussed above. The agent in our case will talk to MongoDB database and collections using the vertexAI extensions.\n",
        "\n"
      ],
      "metadata": {
        "id": "EiTxHE26NE7j"
      }
    },
    {
      "cell_type": "markdown",
      "source": [
        "##Create a single Agent App\n",
        "\n",
        "If you want to create an App and Agent in a single turn (i.e. avoiding using create_app -> add_agent) you can use `App.create_single_agent_app`. You must specify the agent display name, and then optionally specify tools for the agent, and the App's display name and description. This function returns an operable App."
      ],
      "metadata": {
        "id": "4T7q9duxb2rV"
      }
    },
    {
      "cell_type": "code",
      "source": [
        "DISPLAY_NAME = \"MongoDB Agent\"\n",
        "INSTRUCTIONS = \"\"\"\n",
        "If user ask about anything from papers published use the extension MongoDb Vertex API Interpreter to make the call,\n",
        "The extension makes api call to mongodb cluster named 'FreeTier' database sample_papers and collection embedding_papers to do all crud operations only return the documents from the same.\n",
        "Only respond based on the response of the tool. Do not create your own answers.\n",
        "\"\"\"\n",
        "\n",
        "app = App.create_single_agent_app(\n",
        "    agent_display_name=DISPLAY_NAME,\n",
        "    instructions=INSTRUCTIONS,\n",
        "    extensions={\n",
        "        'mongodb crud': mdb_crud}\n",
        "    )"
      ],
      "metadata": {
        "id": "CYl29-ijcODp"
      },
      "execution_count": null,
      "outputs": []
    },
    {
      "cell_type": "markdown",
      "source": [
        "##List Agents\n",
        "\n",
        "You can list all the agents exiting under an App. This will return operatable Agent objects."
      ],
      "metadata": {
        "id": "C3alENcltkey"
      }
    },
    {
      "cell_type": "code",
      "source": [
        "app.list_agents()"
      ],
      "metadata": {
        "id": "-U5xSGNT-OqA"
      },
      "execution_count": null,
      "outputs": []
    },
    {
      "cell_type": "markdown",
      "source": [
        "##Get Agent\n",
        "\n",
        "You can also get a specific Agent using either the resource name or the display name"
      ],
      "metadata": {
        "id": "v1ZsZ_A8v3mf"
      }
    },
    {
      "cell_type": "code",
      "source": [
        "agent = app.get_agent('MongoDB Agent')"
      ],
      "metadata": {
        "id": "jbK_5YLxv3V8"
      },
      "execution_count": null,
      "outputs": []
    },
    {
      "cell_type": "code",
      "source": [
        "agent"
      ],
      "metadata": {
        "id": "7H9-GNeYav11",
        "colab": {
          "base_uri": "https://localhost:8080/"
        },
        "executionInfo": {
          "status": "ok",
          "timestamp": 1725547069045,
          "user_tz": -330,
          "elapsed": 2,
          "user": {
            "displayName": "",
            "userId": ""
          }
        },
        "outputId": "0f57858a-f2cd-4d78-b46b-e2b841da8913",
        "collapsed": true
      },
      "execution_count": null,
      "outputs": [
        {
          "output_type": "execute_result",
          "data": {
            "text/plain": [
              "\n",
              "agent_name: projects/787220387490/locations/us-central1/apps/5971210155939856384/agents/1523778530318483456\n",
              "display_name: MongoDB Agent\n",
              "model: projects/787220387490/locations/us-central1/publishers/google/models/gemini-1.5-pro-001\n",
              "instructions: \n",
              "If user ask about anything from papers published use the extension MongoDb Vertex API Interpreter to make the call,\n",
              "The extension makes api call to mongodb cluster named 'FreeTier' database sample_papers and collection embedding_papers to do all crud operations only return the documents from the same.\n",
              "Only respond based on the response of the tool. Do not create your own answers.\n",
              "\n",
              "tools: { \n",
              "  extension_tool:{\n",
              "\textension: \"projects/787220387490/locations/us-central1/extensions/5215256329425256448\"\n",
              "\tdisplay_name: \"mongodb crud\"\n",
              "\textension_operations {\n",
              "\t  operation_id: \"insertone_mdb\"\n",
              "\t  function_declaration {\n",
              "\t    name: \"insertone_mdb\"\n",
              "\t    description: \"\\nThis extension makes api call to mongodb cluster FreeTier, database sample_papers and collection embedding_papers to do all crud operations and This extension makes api call to mongodb cluster FreeTier, database sample_restaurants  and collection restaurants to do all crud operations based on the user query related to papers or resturants\\n\\n\\n\\nInsert a single document from a MongoDB collection using specified criteria.\"\n",
              "\t    parameters {\n",
              "\t      type_: OBJECT\n",
              "\t      properties {\n",
              "\t        key: \"document\"\n",
              "\t        value {\n",
              "\t          type_: OBJECT\n",
              "\t          description: \"A MongoDB query filter that matches documents.\"\n",
              "\t        }\n",
              "\t      }\n",
              "\t      properties {\n",
              "\t        key: \"database\"\n",
              "\t        value {\n",
              "\t          type_: STRING\n",
              "\t          description: \"The database name.\"\n",
              "\t        }\n",
              "\t      }\n",
              "\t      properties {\n",
              "\t        key: \"dataSource\"\n",
              "\t        value {\n",
              "\t          type_: STRING\n",
              "\t          description: \"The data source.\"\n",
              "\t        }\n",
              "\t      }\n",
              "\t      properties {\n",
              "\t        key: \"collection\"\n",
              "\t        value {\n",
              "\t          type_: STRING\n",
              "\t          description: \"The collection name.\"\n",
              "\t        }\n",
              "\t      }\n",
              "\t    }\n",
              "\t  }\n",
              "\t}\n",
              "\textension_operations {\n",
              "\t  operation_id: \"findmany_mdb\"\n",
              "\t  function_declaration {\n",
              "\t    name: \"findmany_mdb\"\n",
              "\t    description: \"\\nThis extension makes api call to mongodb cluster FreeTier, database sample_papers and collection embedding_papers to do all crud operations and This extension makes api call to mongodb cluster FreeTier, database sample_restaurants  and collection restaurants to do all crud operations based on the user query related to papers or resturants\\n\\n\\n\\nRetrieve a multiple document from a MongoDB collection using specified criteria.\"\n",
              "\t    parameters {\n",
              "\t      type_: OBJECT\n",
              "\t      properties {\n",
              "\t        key: \"limit\"\n",
              "\t        value {\n",
              "\t          type_: INTEGER\n",
              "\t          description: \"A MongoDB query to limit number of documents.\"\n",
              "\t        }\n",
              "\t      }\n",
              "\t      properties {\n",
              "\t        key: \"filter\"\n",
              "\t        value {\n",
              "\t          type_: OBJECT\n",
              "\t          description: \"A MongoDB query filter that matches documents.\"\n",
              "\t        }\n",
              "\t      }\n",
              "\t      properties {\n",
              "\t        key: \"database\"\n",
              "\t        value {\n",
              "\t          type_: STRING\n",
              "\t          description: \"The database name.\"\n",
              "\t        }\n",
              "\t      }\n",
              "\t      properties {\n",
              "\t        key: \"dataSource\"\n",
              "\t        value {\n",
              "\t          type_: STRING\n",
              "\t          description: \"The data source.\"\n",
              "\t        }\n",
              "\t      }\n",
              "\t      properties {\n",
              "\t        key: \"collection\"\n",
              "\t        value {\n",
              "\t          type_: STRING\n",
              "\t          description: \"The collection name.\"\n",
              "\t        }\n",
              "\t      }\n",
              "\t    }\n",
              "\t  }\n",
              "\t}\n",
              "\textension_operations {\n",
              "\t  operation_id: \"findone_mdb\"\n",
              "\t  function_declaration {\n",
              "\t    name: \"findone_mdb\"\n",
              "\t    description: \"\\nThis extension makes api call to mongodb cluster FreeTier, database sample_papers and collection embedding_papers to do all crud operations and This extension makes api call to mongodb cluster FreeTier, database sample_restaurants  and collection restaurants to do all crud operations based on the user query related to papers or resturants\\n\\n\\n\\nRetrieve a single document from a MongoDB collection using specified criteria.\"\n",
              "\t    parameters {\n",
              "\t      type_: OBJECT\n",
              "\t      properties {\n",
              "\t        key: \"filter\"\n",
              "\t        value {\n",
              "\t          type_: OBJECT\n",
              "\t          description: \"A MongoDB query filter that matches documents.\"\n",
              "\t        }\n",
              "\t      }\n",
              "\t      properties {\n",
              "\t        key: \"database\"\n",
              "\t        value {\n",
              "\t          type_: STRING\n",
              "\t          description: \"The database name.\"\n",
              "\t        }\n",
              "\t      }\n",
              "\t      properties {\n",
              "\t        key: \"dataSource\"\n",
              "\t        value {\n",
              "\t          type_: STRING\n",
              "\t          description: \"The data source.\"\n",
              "\t        }\n",
              "\t      }\n",
              "\t      properties {\n",
              "\t        key: \"collection\"\n",
              "\t        value {\n",
              "\t          type_: STRING\n",
              "\t          description: \"The collection name.\"\n",
              "\t        }\n",
              "\t      }\n",
              "\t    }\n",
              "\t  }\n",
              "\t}\n",
              "\textension_operations {\n",
              "\t  operation_id: \"uppdateone_mdb\"\n",
              "\t  function_declaration {\n",
              "\t    name: \"uppdateone_mdb\"\n",
              "\t    description: \"\\nThis extension makes api call to mongodb cluster FreeTier, database sample_papers and collection embedding_papers to do all crud operations and This extension makes api call to mongodb cluster FreeTier, database sample_restaurants  and collection restaurants to do all crud operations based on the user query related to papers or resturants\\n\\n\\n\\nUpdate a single document from a MongoDB collection using specified criteria.\"\n",
              "\t    parameters {\n",
              "\t      type_: OBJECT\n",
              "\t      properties {\n",
              "\t        key: \"upsert\"\n",
              "\t        value {\n",
              "\t          type_: BOOLEAN\n",
              "\t          description: \"On true Insert the new document to collection else update the document .\"\n",
              "\t        }\n",
              "\t      }\n",
              "\t      properties {\n",
              "\t        key: \"update\"\n",
              "\t        value {\n",
              "\t          type_: OBJECT\n",
              "\t          description: \"A update document query filter that matches documents.\"\n",
              "\t        }\n",
              "\t      }\n",
              "\t      properties {\n",
              "\t        key: \"filter\"\n",
              "\t        value {\n",
              "\t          type_: OBJECT\n",
              "\t          description: \"A MongoDB query filter that matches documents.\"\n",
              "\t        }\n",
              "\t      }\n",
              "\t      properties {\n",
              "\t        key: \"database\"\n",
              "\t        value {\n",
              "\t          type_: STRING\n",
              "\t          description: \"The database name.\"\n",
              "\t        }\n",
              "\t      }\n",
              "\t      properties {\n",
              "\t        key: \"dataSource\"\n",
              "\t        value {\n",
              "\t          type_: STRING\n",
              "\t          description: \"The data source.\"\n",
              "\t        }\n",
              "\t      }\n",
              "\t      properties {\n",
              "\t        key: \"collection\"\n",
              "\t        value {\n",
              "\t          type_: STRING\n",
              "\t          description: \"The collection name.\"\n",
              "\t        }\n",
              "\t      }\n",
              "\t    }\n",
              "\t  }\n",
              "\t}\n",
              "\textension_operations {\n",
              "\t  operation_id: \"deleteone_mdb\"\n",
              "\t  function_declaration {\n",
              "\t    name: \"deleteone_mdb\"\n",
              "\t    description: \"\\nThis extension makes api call to mongodb cluster FreeTier, database sample_papers and collection embedding_papers to do all crud operations and This extension makes api call to mongodb cluster FreeTier, database sample_restaurants  and collection restaurants to do all crud operations based on the user query related to papers or resturants\\n\\n\\n\\nDelete a single document from a MongoDB collection using specified criteria.\"\n",
              "\t    parameters {\n",
              "\t      type_: OBJECT\n",
              "\t      properties {\n",
              "\t        key: \"filter\"\n",
              "\t        value {\n",
              "\t          type_: OBJECT\n",
              "\t          description: \"A MongoDB query filter that matches documents.\"\n",
              "\t        }\n",
              "\t      }\n",
              "\t      properties {\n",
              "\t        key: \"database\"\n",
              "\t        value {\n",
              "\t          type_: STRING\n",
              "\t          description: \"The database name.\"\n",
              "\t        }\n",
              "\t      }\n",
              "\t      properties {\n",
              "\t        key: \"dataSource\"\n",
              "\t        value {\n",
              "\t          type_: STRING\n",
              "\t          description: \"The data source.\"\n",
              "\t        }\n",
              "\t      }\n",
              "\t      properties {\n",
              "\t        key: \"collection\"\n",
              "\t        value {\n",
              "\t          type_: STRING\n",
              "\t          description: \"The collection name.\"\n",
              "\t        }\n",
              "\t      }\n",
              "\t    }\n",
              "\t  }\n",
              "\t}\n",
              "\textension_operations {\n",
              "\t  operation_id: \"aggregate_mdb\"\n",
              "\t  function_declaration {\n",
              "\t    name: \"aggregate_mdb\"\n",
              "\t    description: \"\\nThis extension makes api call to mongodb cluster FreeTier, database sample_papers and collection embedding_papers to do all crud operations and This extension makes api call to mongodb cluster FreeTier, database sample_restaurants  and collection restaurants to do all crud operations based on the user query related to papers or resturants\\n\\n\\n\\nGet a total count of document from a MongoDB collection using specified criteria.\"\n",
              "\t    parameters {\n",
              "\t      type_: OBJECT\n",
              "\t      properties {\n",
              "\t        key: \"pipeline\"\n",
              "\t        value {\n",
              "\t          type_: ARRAY\n",
              "\t          description: \"A MongoDB query filter that matches documents.\"\n",
              "\t          items {\n",
              "\t            type_: OBJECT\n",
              "\t          }\n",
              "\t        }\n",
              "\t      }\n",
              "\t      properties {\n",
              "\t        key: \"database\"\n",
              "\t        value {\n",
              "\t          type_: STRING\n",
              "\t          description: \"The database name.\"\n",
              "\t        }\n",
              "\t      }\n",
              "\t      properties {\n",
              "\t        key: \"dataSource\"\n",
              "\t        value {\n",
              "\t          type_: STRING\n",
              "\t          description: \"The data source.\"\n",
              "\t        }\n",
              "\t      }\n",
              "\t      properties {\n",
              "\t        key: \"collection\"\n",
              "\t        value {\n",
              "\t          type_: STRING\n",
              "\t          description: \"The collection name.\"\n",
              "\t        }\n",
              "\t      }\n",
              "\t    }\n",
              "\t  }\n",
              "\t}\n",
              "  } }"
            ]
          },
          "metadata": {},
          "execution_count": 18
        }
      ]
    },
    {
      "cell_type": "markdown",
      "source": [
        "Alternatively, you can get an Agent using the Agent class\n",
        "\n",
        "Note that the only way to create a new Agent is to create it under an App, using `app.add_agent()`. The Agents constructor can only be used to get a reference to an Agent that has already been created."
      ],
      "metadata": {
        "id": "HtvWq-Q8PlUU"
      }
    },
    {
      "cell_type": "code",
      "source": [
        "# agent2 = Agent(agent_id='projects/<project id>/locations/<location id>/<app id>/agents/<agent id>0')"
      ],
      "metadata": {
        "id": "izm5RSB3wbUo"
      },
      "execution_count": null,
      "outputs": []
    },
    {
      "cell_type": "markdown",
      "source": [
        "#Session\n",
        "\n",
        "NOTE: you can remove `.content` from the end of each run call to get more detailed information about each session action"
      ],
      "metadata": {
        "id": "m91d6I8i8nXW"
      }
    },
    {
      "cell_type": "code",
      "source": [
        "session = app.start_session()"
      ],
      "metadata": {
        "id": "cSuSJm6P8oHN"
      },
      "execution_count": null,
      "outputs": []
    },
    {
      "cell_type": "markdown",
      "source": [
        "## Multi-turn queries without tool calls\n"
      ],
      "metadata": {
        "id": "OkuaTZmNgxkL"
      }
    },
    {
      "cell_type": "markdown",
      "source": [
        "Query data from MongoDB collection for research papers."
      ],
      "metadata": {
        "id": "Xxcj8E4e_wEu"
      }
    },
    {
      "cell_type": "code",
      "source": [
        "session.run(\"Find the title by submitter 'Pavel Nadolsky'\").content"
      ],
      "metadata": {
        "id": "HZxzrIK6snLE",
        "colab": {
          "base_uri": "https://localhost:8080/"
        },
        "executionInfo": {
          "status": "ok",
          "timestamp": 1725547381671,
          "user_tz": -330,
          "elapsed": 21519,
          "user": {
            "displayName": "",
            "userId": ""
          }
        },
        "outputId": "56af0651-8321-4719-cf33-d08360af614c",
        "collapsed": true
      },
      "execution_count": null,
      "outputs": [
        {
          "output_type": "execute_result",
          "data": {
            "text/plain": [
              "role: \"model\"\n",
              "parts {\n",
              "  text: \"```json\\n{\\\"document\\\": {\\\"_id\\\": \\\"66706b69e3c7287461f83d8e\\\", \\\"abstract\\\": \\\"  A fully differential calculation in perturbative quantum chromodynamics is\\\\npresented for the production of massive photon pairs at hadron colliders. All\\\\nnext-to-leading order perturbative contributions from quark-antiquark,\\\\ngluon-(anti)quark, and gluon-gluon subprocesses are included, as well as\\\\nall-orders resummation of initial-state gluon radiation valid at\\\\nnext-to-next-to-leading logarithmic accuracy. The region of phase space is\\\\nspecified in which the calculation is most reliable. Good agreement is\\\\ndemonstrated with data from the Fermilab Tevatron, and predictions are made for\\\\nmore detailed tests with CDF and DO data. Predictions are shown for\\\\ndistributions of diphoton pairs produced at the energy of the Large Hadron\\\\nCollider (LHC). Distributions of the diphoton pairs from the decay of a Higgs\\\\nboson are contrasted with those produced from QCD processes at the LHC, showing\\\\nthat enhanced sensitivity to the signal can be obtained with judicious\\\\nselection of events.\\\\n\\\", \\\"authors\\\": \\\"C. Bal\\\\\\\\\\\\\\'azs, E. L. Berger, P. M. Nadolsky, C.-P. Yuan\\\", \\\"authors_parsed\\\": [[\\\"Balázs\\\", \\\"C.\\\", \\\"\\\"], [\\\"Berger\\\", \\\"E. L.\\\", \\\"\\\"], [\\\"Nadolsky\\\", \\\"P. M.\\\", \\\"\\\"], [\\\"Yuan\\\", \\\"C. -P.\\\", \\\"\\\"]], \\\"categories\\\": \\\"hep-ph\\\", \\\"comments\\\": \\\"37 pages, 15 figures; published version\\\", \\\"doi\\\": \\\"10.1103/PhysRevD.76.013009\\\", \\\"embedding\\\": [], \\\"id\\\": 704.0001, \\\"journal-ref\\\": \\\"Phys.Rev.D76:013009,2007\\\", \\\"license\\\": None, \\\"report-no\\\": \\\"ANL-HEP-PR-07-12\\\", \\\"submitter\\\": \\\"Pavel Nadolsky\\\", \\\"title\\\": \\\"Calculation of prompt diphoton production cross sections at Tevatron and\\\\n  LHC energies\\\", \\\"update_date\\\": \\\"2008-11-26T00:00:00Z\\\", \\\"versions\\\": [{\\\"created\\\": \\\"Mon, 2 Apr 2007 19:18:42 GMT\\\", \\\"version\\\": \\\"v1\\\"}, {\\\"created\\\": \\\"Tue, 24 Jul 2007 20:10:27 GMT\\\", \\\"version\\\": \\\"v2\\\"}]}}\\n```\\n\"\n",
              "}"
            ]
          },
          "metadata": {},
          "execution_count": 22
        }
      ]
    },
    {
      "cell_type": "markdown",
      "source": [
        "Query data from MongoDB collection for resturants"
      ],
      "metadata": {
        "id": "ul7XJhBX_zjz"
      }
    },
    {
      "cell_type": "code",
      "source": [
        "session.run(\"cuisine for resturant Wilken'S Fine Food\").content"
      ],
      "metadata": {
        "id": "VFTruT3IoiyT"
      },
      "execution_count": null,
      "outputs": []
    },
    {
      "cell_type": "code",
      "source": [
        "session.get_history()"
      ],
      "metadata": {
        "id": "FDZWdyMjs2jA",
        "collapsed": true
      },
      "execution_count": null,
      "outputs": []
    },
    {
      "cell_type": "code",
      "source": [
        "session.run(\"hi\")"
      ],
      "metadata": {
        "id": "1wrSL7Lt-jhG"
      },
      "execution_count": null,
      "outputs": []
    },
    {
      "cell_type": "markdown",
      "source": [
        "## User query that invokes client side function\n"
      ],
      "metadata": {
        "id": "AvwP0OSug90e"
      }
    },
    {
      "cell_type": "code",
      "source": [
        "session.run(\"Find the title by submitter 'Pavel Nadolsky'\").content"
      ],
      "metadata": {
        "id": "_CnkVE9m_au3"
      },
      "execution_count": null,
      "outputs": []
    },
    {
      "cell_type": "code",
      "source": [
        "# app.delete_session('<Session Name>')"
      ],
      "metadata": {
        "id": "9AHX-qgAOqK4"
      },
      "execution_count": null,
      "outputs": []
    },
    {
      "cell_type": "markdown",
      "source": [
        "## Delete Agent\n",
        "Using either the display name or the fully qualified resource name, you can delete a specific agent under the App."
      ],
      "metadata": {
        "id": "Twl3YkJHtt8y"
      }
    },
    {
      "cell_type": "code",
      "source": [
        "# app.delete_agent('<Agent Name>')"
      ],
      "metadata": {
        "id": "fmBUL6Jg_Me6"
      },
      "execution_count": null,
      "outputs": []
    }
  ]
}