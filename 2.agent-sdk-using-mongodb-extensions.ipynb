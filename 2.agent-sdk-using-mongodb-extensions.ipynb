{
  "cells": [
    {
      "cell_type": "markdown",
      "source": [
        "# Setting Vertex AI Agent API for MongoDB Vertex AI Extensions.\n"
      ],
      "metadata": {
        "id": "QezpRE7UyFj5"
      },
      "id": "QezpRE7UyFj5"
    },
    {
      "cell_type": "markdown",
      "source": [
        " ## Vertex AI Agent API\n",
        "\n",
        " The [Vertex AI Agent API](https://cloud.google.com/vertex-ai/generative-ai/docs/agent-api/overview) is an API for creating and managing generative AI systems called \"agents\" that can  reason, plan, and act to perform specific tasks."
      ],
      "metadata": {
        "id": "HFwau9PTzgbD"
      },
      "id": "HFwau9PTzgbD"
    },
    {
      "cell_type": "markdown",
      "source": [
        "## Using This Notebook\n",
        "\n",
        "Colab is recommended for running this notebook, but it can run in any iPython environment where you can connect to Google Cloud, install pip packages, etc.\n",
        "\n",
        "If you're running outside of Colab, depending on your environment you may need to install pip packages that are included in the Colab environment by default but are not part of the Python Standard Library--try pipping the library name of any imports that fail.\n",
        "\n",
        "This tutorial uses the following Google Cloud services and resources:\n",
        "\n",
        "* [Vertex AI Agent API](https://cloud.google.com/vertex-ai/generative-ai/docs/agent-api/overview)\n",
        "\n",
        "This notebook has been tested in the following environment:\n",
        "\n",
        "* Python version = 3.10.12\n",
        "* [google-cloud-aiplatform](https://pypi.org/project/google-cloud-aiplatform/) version = 1.70"
      ],
      "metadata": {
        "id": "7TMU-tSbz2ny"
      },
      "id": "7TMU-tSbz2ny"
    },
    {
      "cell_type": "markdown",
      "source": [
        "## Useful Tips\n",
        "\n",
        "1. This notebook uses Generative AI cababilities. Re-running a cell that uses Generative AI capabilities may produce similar but not identical results.\n",
        "2. Because of #1, it is possible that an output produces errors. If that happens re-run the cell that produced the error. The re-run will likely be bug free.\n",
        "3. The use of Generative AI capabilities is subject to service quotas. Running the notebook using \"Run All\" may exceed your queries per minute (QPM) limitations. Run the notebook manually and if you get a quota error pause for up to 1 minute before retrying that cell. The Vertex AI Agent API defaults to Gemini on the backend and is subject to the Gemini quotas, [view your Gemini quotas here](https://console.cloud.google.com/iam-admin/quotas?pageState=(%22allQuotasTable%22:(%22f%22:%22%255B%257B_22k_22_3A_22_22_2C_22t_22_3A10_2C_22v_22_3A_22_5C_22base_model_5C_22_22%257D_2C%257B_22k_22_3A_22_22_2C_22t_22_3A10_2C_22v_22_3A_22_5C_22gemini_5C_22_22%257D%255D%22%29%29&e=13802955&mods=logs_tg_staging).\n"
      ],
      "metadata": {
        "id": "YwzQkJL60KnS"
      },
      "id": "YwzQkJL60KnS"
    },
    {
      "cell_type": "markdown",
      "source": [
        "# Getting Started\n",
        "\n",
        "The following steps are necessary to run this notebook, no matter what notebook environment you're using.\n",
        "\n",
        "If you're entirely new to Google Cloud, [get started here](https://cloud.google.com/docs/get-started).\n",
        "\n",
        "## Google Cloud Project Setup\n",
        "\n",
        "1. [Select or create a Google Cloud project](https://console.cloud.google.com/cloud-resource-manager). When you first create an account, you get a $300 free credit towards your compute/storage costs.\n",
        "1. [Make sure that billing is enabled for your project](https://cloud.google.com/billing/docs/how-to/modify-project).\n",
        "1. [Enable the Vertex AI API](https://console.cloud.google.com/flows/enableapi?apiid=aiplatform.googleapis.com).\n",
        "\n",
        "## Google Cloud Permissions\n",
        "Make sure you have been [granted the following roles](https://cloud.google.com/iam/docs/granting-changing-revoking-access) for the GCP project you'll access from this notebook:\n",
        "* [`roles/aiplatform.user`](https://cloud.google.com/vertex-ai/docs/general/access-control#aiplatform.user)"
      ],
      "metadata": {
        "id": "rF5yzyzB0cas"
      },
      "id": "rF5yzyzB0cas"
    },
    {
      "cell_type": "markdown",
      "source": [
        "## Authenticate\n",
        "\n",
        "If you're using Colab, run the code in the next cell. Follow the popups and authenticate with an account that has access to your Google Cloud [project](https://cloud.google.com/resource-manager/docs/creating-managing-projects#identifying_projects).\n",
        "\n",
        "If you're running this notebook somewhere besides Colab, make sure your environment has the right Google Cloud access. If that's a new concept to you, consider looking into [Application Default Credentials for your local environment](https://cloud.google.com/docs/authentication/provide-credentials-adc#local-dev) and [initializing the Google Cloud CLI](https://cloud.google.com/docs/authentication/gcloud). In many cases, running `gcloud auth application-default login` and/or `gcloud auth login` in a shell on the machine running the notebook kernel is sufficient.\n",
        "\n",
        "More authentication options are discussed [here](https://cloud.google.com/docs/authentication)."
      ],
      "metadata": {
        "id": "nkNMvsyM03h3"
      },
      "id": "nkNMvsyM03h3"
    },
    {
      "cell_type": "code",
      "source": [
        "# Colab authentication.\n",
        "import sys\n",
        "\n",
        "if \"google.colab\" in sys.modules:\n",
        "    from google.colab import auth\n",
        "    auth.authenticate_user()\n",
        "    print(\"Authenticated\")"
      ],
      "metadata": {
        "colab": {
          "base_uri": "https://localhost:8080/"
        },
        "id": "I-Ait6fcXs25",
        "executionInfo": {
          "status": "ok",
          "timestamp": 1729670828725,
          "user_tz": -330,
          "elapsed": 2,
          "user": {
            "displayName": "",
            "userId": ""
          }
        },
        "outputId": "c23366d1-4f52-45a8-8be7-498a5929786e"
      },
      "id": "I-Ait6fcXs25",
      "execution_count": 10,
      "outputs": [
        {
          "output_type": "stream",
          "name": "stdout",
          "text": [
            "WARNING: google.colab.auth.authenticate_user() is not supported in Colab Enterprise.\n",
            "Authenticated\n"
          ]
        }
      ]
    },
    {
      "cell_type": "markdown",
      "source": [
        "## Install the Google Cloud Vertex AI Python SDK\n",
        "\n",
        "Install the Google Cloud Vertex AI Python SDK, and if you already have the Google Cloud Vertex AI Python SDK installed, upgrade to the latest version."
      ],
      "metadata": {
        "id": "NRqDzulM09bx"
      },
      "id": "NRqDzulM09bx"
    },
    {
      "cell_type": "code",
      "source": [
        "from google.colab import auth\n",
        "auth.authenticate_user()\n",
        "# Outside of colab, gcloud auth login"
      ],
      "metadata": {
        "colab": {
          "base_uri": "https://localhost:8080/"
        },
        "id": "4y3-OQWVXt9K",
        "executionInfo": {
          "status": "ok",
          "timestamp": 1729670837958,
          "user_tz": -330,
          "elapsed": 2,
          "user": {
            "displayName": "",
            "userId": ""
          }
        },
        "outputId": "614d26de-cae1-42ce-8c0a-85aac6be4068"
      },
      "id": "4y3-OQWVXt9K",
      "execution_count": 11,
      "outputs": [
        {
          "output_type": "stream",
          "name": "stdout",
          "text": [
            "WARNING: google.colab.auth.authenticate_user() is not supported in Colab Enterprise.\n"
          ]
        }
      ]
    },
    {
      "cell_type": "code",
      "source": [
        "# Install gcloud\n",
        "!pip install --quiet google-cloud\n",
        "\n",
        "WHL_FILEPATH = \" gs://vertex_sdk_private_releases/agents_v2/google_cloud_aiplatform-1.70.dev20241008+vertex.agents.v2-py2.py3-none-any.whl\"\n",
        "!gsutil cp {WHL_FILEPATH} .\n",
        "\n",
        "# Install the private SDK\n",
        "!pip install --quiet {WHL_FILEPATH.split(\"/\")[-1]} \"numpy<2.0.0\" --force-reinstall"
      ],
      "metadata": {
        "id": "YlFRPJ3ZYZ-Q"
      },
      "id": "YlFRPJ3ZYZ-Q",
      "execution_count": null,
      "outputs": []
    },
    {
      "cell_type": "markdown",
      "source": [
        "### Restart Runtime\n",
        "\n",
        "You may need to restart your notebook runtime to use the Vertex AI SDK. You can do this by running the cell below, which restarts the current kernel.\n",
        "\n",
        "You may see the restart reported as a crash, but it is working as-intended -- you are merely restarting the runtime.\n",
        "\n",
        "The restart might take a minute or longer. After its restarted, continue to the next step."
      ],
      "metadata": {
        "id": "IM-lKj1U0-yn"
      },
      "id": "IM-lKj1U0-yn"
    },
    {
      "cell_type": "code",
      "source": [
        "import IPython\n",
        "\n",
        "app = IPython.Application.instance()\n",
        "app.kernel.do_shutdown(True)"
      ],
      "metadata": {
        "colab": {
          "base_uri": "https://localhost:8080/"
        },
        "id": "H8UAQMR1arOD",
        "executionInfo": {
          "status": "ok",
          "timestamp": 1729670900447,
          "user_tz": -330,
          "elapsed": 670,
          "user": {
            "displayName": "",
            "userId": ""
          }
        },
        "outputId": "e158c84e-2c5a-4682-887f-3de07f8aaa8a"
      },
      "id": "H8UAQMR1arOD",
      "execution_count": 13,
      "outputs": [
        {
          "output_type": "execute_result",
          "data": {
            "text/plain": [
              "{'status': 'ok', 'restart': True}"
            ]
          },
          "metadata": {},
          "execution_count": 13
        }
      ]
    },
    {
      "cell_type": "markdown",
      "source": [
        "<div class=\"alert alert-block alert-warning\">\n",
        "<b>⚠️ The kernel is going to restart. Please wait until it is finished before continuing to the next step. ⚠️</b>\n",
        "</div>\n"
      ],
      "metadata": {
        "id": "9jcBfJjL1UjK"
      },
      "id": "9jcBfJjL1UjK"
    },
    {
      "cell_type": "markdown",
      "source": [
        "# Initialize the Google Cloud Vertex AI Python SDK\n",
        "\n",
        "Start here if your Notebook kernel restarts (but isn't deleted), though if it's been a few hours you may need to run the Authentication steps above again.\n",
        "\n",
        "To initialize the SDK, you need to set your Google Cloud project ID and region.\n",
        "\n",
        "If you don't know your project  ID, try the [Google Cloud CLI](https://cloud.google.com/sdk) commands [`gcloud config list`](https://cloud.google.com/sdk/gcloud/reference/config/list) or [`gcloud projects list`](https://cloud.google.com/sdk/gcloud/reference/projects/list). See the support page [Locate the project ID](https://support.google.com/googleapi/answer/7014113) for more information.\n"
      ],
      "metadata": {
        "id": "bJ5hK-Jp1KkC"
      },
      "id": "bJ5hK-Jp1KkC"
    },
    {
      "cell_type": "markdown",
      "source": [
        "### Set Your Project ID"
      ],
      "metadata": {
        "id": "nXoJlnad1k2D"
      },
      "id": "nXoJlnad1k2D"
    },
    {
      "cell_type": "code",
      "source": [
        "PROJECT_ID = \"\"  # @param {type:\"string\"}\n",
        "\n",
        "# Set the project for CLI commands.\n",
        "# !gcloud config set project {PROJECT_ID}"
      ],
      "metadata": {
        "id": "Gwz5YfYZa28_",
        "executionInfo": {
          "status": "ok",
          "timestamp": 1729670927826,
          "user_tz": -330,
          "elapsed": 679,
          "user": {
            "displayName": "",
            "userId": ""
          }
        }
      },
      "id": "Gwz5YfYZa28_",
      "execution_count": 1,
      "outputs": []
    },
    {
      "cell_type": "markdown",
      "source": [
        "### Set the Region\n",
        "\n",
        "You can also change the `REGION` variable used by Vertex AI. Learn more about [Vertex AI regions](https://cloud.google.com/vertex-ai/docs/general/locations)."
      ],
      "metadata": {
        "id": "usKksvdv1ms8"
      },
      "id": "usKksvdv1ms8"
    },
    {
      "cell_type": "code",
      "source": [
        "REGION = \"us-central1\"  # @param {type: \"string\"}"
      ],
      "metadata": {
        "id": "hdeqSnBVa66_",
        "executionInfo": {
          "status": "ok",
          "timestamp": 1729670935156,
          "user_tz": -330,
          "elapsed": 674,
          "user": {
            "displayName": "",
            "userId": ""
          }
        }
      },
      "id": "hdeqSnBVa66_",
      "execution_count": 2,
      "outputs": []
    },
    {
      "cell_type": "markdown",
      "source": [
        "### Import and Initialize the Vertex AI Python SDK"
      ],
      "metadata": {
        "id": "M-0c6Af-1qwE"
      },
      "id": "M-0c6Af-1qwE"
    },
    {
      "cell_type": "code",
      "source": [
        "import vertexai\n",
        "from google.cloud.aiplatform.private_preview.vertex_agents_v2 import agents,sessions\n",
        "from vertexai.generative_models import FunctionDeclaration, Part\n",
        "from vertexai.preview.extensions import Extension\n",
        "\n",
        "vertexai.init(project=PROJECT_ID, location=REGION)"
      ],
      "metadata": {
        "id": "ZrvKZO_xa_Ra",
        "executionInfo": {
          "status": "ok",
          "timestamp": 1729670949484,
          "user_tz": -330,
          "elapsed": 2712,
          "user": {
            "displayName": "",
            "userId": ""
          }
        }
      },
      "id": "ZrvKZO_xa_Ra",
      "execution_count": 3,
      "outputs": []
    },
    {
      "cell_type": "markdown",
      "source": [
        "# Get Vertex AI Extension for MongoDB\n"
      ],
      "metadata": {
        "id": "PUxad1s_1u4-"
      },
      "id": "PUxad1s_1u4-"
    },
    {
      "cell_type": "code",
      "source": [
        "from google.cloud import aiplatform\n",
        "from vertexai.preview import extensions\n",
        "\n",
        "EXTENSIONS_ID=\"projects/787220387490/locations/us-central1/extensions/8830380192808566784\" # @param {type:\"string\"}\n",
        "\n",
        "mdb_extension = extensions.Extension(EXTENSIONS_ID)\n",
        "mdb_extension"
      ],
      "metadata": {
        "id": "1UuHV0LPb9fW"
      },
      "id": "1UuHV0LPb9fW",
      "execution_count": null,
      "outputs": []
    },
    {
      "cell_type": "markdown",
      "source": [
        "# Create an Agent\n",
        "\n",
        "An AI agent reasons, plans, and takes actions. The agent takes actions via access to **tools**, deciding how and when to invoke a tool. The agent also manages orchestration, creating a plan for answering a user query and adapting to responses that aren't quite correct.\n",
        "\n",
        "Agent **tools** are either [Vertex AI Extensions](https://cloud.google.com/vertex-ai/generative-ai/docs/extensions/overview) or functions (set up using [function calling](https://cloud.google.com/vertex-ai/generative-ai/docs/multimodal/function-calling)).\n",
        "\n",
        "This Notebook covers steps to setup tools using Vertex AI Extensions. Follow the [tutorial](https://medium.com/google-cloud/adding-context-to-rag-with-gemini-function-calling-d6e78e705524) to learn how to set up Function calling on MongoDB Atlas.\n",
        "\n",
        "To create a simple agent, An agent requires two things: a display name and a set of instructions. The instructions should be detailed, making it clear exactly how the agent should behave. We are considering a chatbot agent that can query multiple MongoDB collections.\n",
        "\n",
        "Note: Update the Cluster name in below code snippet with the Clsuter you have setup on MongoDB\n",
        "\n"
      ],
      "metadata": {
        "id": "XXJLrgcR17iA"
      },
      "id": "XXJLrgcR17iA"
    },
    {
      "cell_type": "code",
      "source": [
        "DISPLAY_NAME = \"MongoDB Service Agent\"\n",
        "INSTRUCTIONS = \"\"\"\n",
        "You are a chatbot that makes api call to mongodb cluster <Cluster Name>,\n",
        "database 'sample_mflix' and collection 'movies' it also connects to database\n",
        "'sample_restaurants' and collection 'restaurants' to do all crud operations\n",
        "\"\"\"\n",
        "\n",
        "mdb_agent = agents.create(\n",
        "    display_name=DISPLAY_NAME,\n",
        "    instruction=INSTRUCTIONS,\n",
        "    model=\"gemini-1.5-pro\",\n",
        "    tools=[mdb_extension]\n",
        "    )"
      ],
      "metadata": {
        "id": "QOrZOqUGbCPF"
      },
      "id": "QOrZOqUGbCPF",
      "execution_count": null,
      "outputs": []
    },
    {
      "cell_type": "markdown",
      "source": [
        "## Interact with an Agent\n",
        "\n",
        "To interact with the agent, create a session and then use `run` to send your inputs."
      ],
      "metadata": {
        "id": "HxtfwD6s5UwB"
      },
      "id": "HxtfwD6s5UwB"
    },
    {
      "cell_type": "code",
      "source": [
        "mdb_session = sessions.create(display_name=\"mongodb-session\")"
      ],
      "metadata": {
        "id": "cYrtDKszbiGy"
      },
      "id": "cYrtDKszbiGy",
      "execution_count": null,
      "outputs": []
    },
    {
      "cell_type": "markdown",
      "source": [
        "Keep using `.create_run` to have a conversation with the agent."
      ],
      "metadata": {
        "id": "BWWqUJDS5hk4"
      },
      "id": "BWWqUJDS5hk4"
    },
    {
      "cell_type": "code",
      "source": [
        "run = mdb_session.create_run(agent=mdb_agent, content=\"get me movie name staring Will Smilth\")\n",
        "run.steps"
      ],
      "metadata": {
        "id": "rj4w61_KbpOb"
      },
      "id": "rj4w61_KbpOb",
      "execution_count": null,
      "outputs": []
    },
    {
      "cell_type": "markdown",
      "source": [
        "# Handle Function Calls\n",
        "\n",
        "We will create a function that returns the queried data from MongoDB Atlas by the Agent."
      ],
      "metadata": {
        "id": "RYLpyBPl5ry-"
      },
      "id": "RYLpyBPl5ry-"
    },
    {
      "cell_type": "code",
      "source": [
        "def mdb_service_agent(input_text):\n",
        "  response = mdb_session.create_run(agent=mdb_agent,content=input_text)\n",
        "  response\n",
        "  return response.steps[-1].content.parts[0].text"
      ],
      "metadata": {
        "id": "WSsKAv4AdH7d",
        "executionInfo": {
          "status": "ok",
          "timestamp": 1729676127046,
          "user_tz": -330,
          "elapsed": 2,
          "user": {
            "displayName": "",
            "userId": ""
          }
        }
      },
      "id": "WSsKAv4AdH7d",
      "execution_count": 51,
      "outputs": []
    },
    {
      "cell_type": "markdown",
      "source": [
        "# Test the MongoDB Agent Service"
      ],
      "metadata": {
        "id": "vJcKXtUk6HGF"
      },
      "id": "vJcKXtUk6HGF"
    },
    {
      "cell_type": "code",
      "source": [
        "mdb_service_agent(\"get me the borough of the resturant named Riviera Caterer\")"
      ],
      "metadata": {
        "colab": {
          "base_uri": "https://localhost:8080/",
          "height": 35
        },
        "id": "RNASPRdSee6r",
        "executionInfo": {
          "status": "ok",
          "timestamp": 1729676133181,
          "user_tz": -330,
          "elapsed": 4174,
          "user": {
            "displayName": "",
            "userId": ""
          }
        },
        "outputId": "80b4a030-bf24-4393-c1ee-49e30e69832e"
      },
      "id": "RNASPRdSee6r",
      "execution_count": 52,
      "outputs": [
        {
          "output_type": "execute_result",
          "data": {
            "text/plain": [
              "'The borough of the restaurant named Riviera Caterer is Brooklyn. \\n'"
            ],
            "application/vnd.google.colaboratory.intrinsic+json": {
              "type": "string"
            }
          },
          "metadata": {},
          "execution_count": 52
        }
      ]
    },
    {
      "cell_type": "code",
      "source": [
        "mdb_service_agent(\"get me movie name staring will smilth\")"
      ],
      "metadata": {
        "colab": {
          "base_uri": "https://localhost:8080/",
          "height": 53
        },
        "id": "a8JeZ0XOu2Ap",
        "executionInfo": {
          "status": "ok",
          "timestamp": 1729676975832,
          "user_tz": -330,
          "elapsed": 6827,
          "user": {
            "displayName": "",
            "userId": ""
          }
        },
        "outputId": "00230866-6e58-4056-f7c1-ff625b7b4059"
      },
      "id": "a8JeZ0XOu2Ap",
      "execution_count": 55,
      "outputs": [
        {
          "output_type": "execute_result",
          "data": {
            "text/plain": [
              "'Here are up to 10 movie names starring Will Smith: Made in America, Six Degrees of Separation, Bad Boys, Independence Day, Men in Black, Enemy of the State, Wild Wild West, Men in Black II, The Legend of Bagger Vance, and Bad Boys II. \\n\\n\\n\\n'"
            ],
            "application/vnd.google.colaboratory.intrinsic+json": {
              "type": "string"
            }
          },
          "metadata": {},
          "execution_count": 55
        }
      ]
    }
  ],
  "metadata": {
    "kernelspec": {
      "display_name": "Python 3",
      "language": "python",
      "name": "python3"
    },
    "language_info": {
      "codemirror_mode": {
        "name": "ipython",
        "version": 3
      },
      "file_extension": ".py",
      "mimetype": "text/x-python",
      "name": "python",
      "nbconvert_exporter": "python",
      "pygments_lexer": "ipython3",
      "version": "3.10.10"
    },
    "colab": {
      "provenance": [],
      "name": "venkatesh.shanbhag (Jun 25, 2024, 7:12:19 PM)"
    }
  },
  "nbformat": 4,
  "nbformat_minor": 5
}